{
 "cells": [
  {
   "cell_type": "markdown",
   "metadata": {},
   "source": [
    "SCW_ACCESS_KEY=SCWM3H0M7BWC2Z13806B\n",
    "SCW_SECRET_KEY=35465751-64a0-4d1e-87aa-fd326c191da1\n",
    "SCW_DEFAULT_ORGANIZATION_ID=7be040c9-259f-4ed1-8847-15fc963bd144\n",
    "SCW_DEFAULT_PROJECT_ID=74bb05fa-56e4-49d4-949a-fabc5875d712"
   ]
  },
  {
   "cell_type": "code",
   "execution_count": 2,
   "metadata": {},
   "outputs": [],
   "source": [
    "from scaleway import Client\n",
    "from scaleway.registry.v1 import RegistryV1API\n",
    "\n",
    "client = Client(\n",
    "   access_key=\"SCWM3H0M7BWC2Z13806B\",\n",
    "   secret_key=\"35465751-64a0-4d1e-87aa-fd326c191da1\",\n",
    "   default_project_id=\"74bb05fa-56e4-49d4-949a-fabc5875d712\",\n",
    "   default_region=\"fr-par\",\n",
    "   default_zone=\"fr-par-1\",\n",
    ")\n",
    "\n",
    "registry_api = RegistryV1API(client)"
   ]
  },
  {
   "cell_type": "code",
   "execution_count": 6,
   "metadata": {},
   "outputs": [
    {
     "name": "stdout",
     "output_type": "stream",
     "text": [
      "<think>\n",
      "Okay, so I need to figure out how to write a Python program that checks if a number is a palindrome. Hmm, I remember that a palindrome is a number that reads the same backward as forward, like 121 or 1331. But how do I actually check that in code? Let me think.\n",
      "\n",
      "First, I guess I can convert the number to a string and then reverse it. If the reversed string is the same as the original, then it's a palindrome. That seems straightforward. For example, take the number 12321. Converting it to a string gives \"12321\", reversing it would be \"12321\", so they match. But is there a way to do this without converting to a string? Maybe using some mathematical operations?\n",
      "\n",
      "Wait, the user didn't specify, but maybe the string method is easier for a beginner. Let me start with that approach. So the steps would be:\n",
      "\n",
      "1. Get the input number from the user.\n",
      "2. Convert the number to a string.\n",
      "3. Reverse the string.\n",
      "4. Compare the original and reversed strings.\n",
      "5. If they are the same, print that it's a palindrome; otherwise, it's not.\n",
      "\n",
      "But wait, how do I reverse a string in Python? Oh right, you can slice the string with [::-1], which reverses it. So for example, str(num)[::-1] would give the reversed string.\n",
      "\n",
      "Let me test this logic with an example. Let's take 121. Convert to string: '121'. Reverse gives '121', so they are equal. That's correct. Another example: 123. Reverse is '321', which is not equal, so not a palindrome. Seems to work.\n",
      "\n",
      "But what about negative numbers? Like -121. If we convert to string, it's \"-121\", reversing gives \"121-\", which is not the same. So the method would correctly say it's not a palindrome. But wait, if the original number is negative, can it be a palindrome? I think by definition, negative numbers are not considered palindromes because of the minus sign. So maybe the code should first check if the number is negative and return False immediately.\n",
      "\n",
      "So adding a check: if the number is less than 0, return False. Otherwise, proceed with reversing the string.\n",
      "\n",
      "Another edge case: single-digit numbers. Like 5. Reversed is 5, so it should be considered a palindrome. That's correct.\n",
      "\n",
      "Okay, putting this into code. So the function"
     ]
    }
   ],
   "source": [
    "from openai import OpenAI\n",
    "\n",
    "client = OpenAI(\n",
    "    base_url = \"https://api.scaleway.ai/74bb05fa-56e4-49d4-949a-fabc5875d712/v1\",\n",
    "    api_key = \"35465751-64a0-4d1e-87aa-fd326c191da1\" # Replace SCW_SECRET_KEY with your IAM API key\n",
    ")\n",
    "\n",
    "response = client.chat.completions.create(\n",
    "    model=\"deepseek-r1\",\n",
    "    messages=[\n",
    "        { \"role\": \"system\", \"content\": \"You are a helpful assistant\" },\n",
    "\t\t{ \"role\": \"user\", \"content\": \"\" },\n",
    "    ],\n",
    "    max_tokens=512,\n",
    "    temperature=0.6,\n",
    "    top_p=0.95,\n",
    "    presence_penalty=0,\n",
    "    stream=True,\n",
    ")\n",
    "for chunk in response:\n",
    "  if chunk.choices and chunk.choices[0].delta.content:\n",
    "    print(chunk.choices[0].delta.content, end=\"\", flush=True)"
   ]
  },
  {
   "cell_type": "markdown",
   "metadata": {},
   "source": [
    "## Extract text from the medical report (DeepSeek R1)\n",
    "## Identify key findings in the report (DeepSeek R1)\n",
    "## Summarize possible diseases (DeepSeek R1)\n",
    "## Classify the patient to a specialist (DeepSeek R1)\n",
    "## Generate a structured health report"
   ]
  },
  {
   "cell_type": "code",
   "execution_count": 12,
   "metadata": {},
   "outputs": [
    {
     "name": "stdout",
     "output_type": "stream",
     "text": [
      "Collecting pymupdf"
     ]
    },
    {
     "name": "stderr",
     "output_type": "stream",
     "text": [
      "\n",
      "[notice] A new release of pip is available: 24.0 -> 25.0.1\n",
      "[notice] To update, run: python.exe -m pip install --upgrade pip\n"
     ]
    },
    {
     "name": "stdout",
     "output_type": "stream",
     "text": [
      "\n",
      "  Downloading pymupdf-1.25.3-cp39-abi3-win_amd64.whl.metadata (3.4 kB)\n",
      "Downloading pymupdf-1.25.3-cp39-abi3-win_amd64.whl (16.5 MB)\n",
      "   ---------------------------------------- 0.0/16.5 MB ? eta -:--:--\n",
      "   ---------------------------------------- 0.0/16.5 MB ? eta -:--:--\n",
      "   ---------------------------------------- 0.0/16.5 MB ? eta -:--:--\n",
      "   ---------------------------------------- 0.0/16.5 MB 262.6 kB/s eta 0:01:03\n",
      "   ---------------------------------------- 0.1/16.5 MB 328.2 kB/s eta 0:00:51\n",
      "   ---------------------------------------- 0.1/16.5 MB 403.5 kB/s eta 0:00:41\n",
      "    --------------------------------------- 0.2/16.5 MB 811.5 kB/s eta 0:00:21\n",
      "   ---- ----------------------------------- 1.8/16.5 MB 5.8 MB/s eta 0:00:03\n",
      "   -------- ------------------------------- 3.3/16.5 MB 9.2 MB/s eta 0:00:02\n",
      "   ------------ --------------------------- 5.1/16.5 MB 13.0 MB/s eta 0:00:01\n",
      "   ---------------- ----------------------- 6.8/16.5 MB 15.6 MB/s eta 0:00:01\n",
      "   -------------------- ------------------- 8.6/16.5 MB 17.7 MB/s eta 0:00:01\n",
      "   ----------------------- ---------------- 9.6/16.5 MB 18.1 MB/s eta 0:00:01\n",
      "   -------------------------- ------------- 10.8/16.5 MB 32.7 MB/s eta 0:00:01\n",
      "   ----------------------------- ---------- 12.0/16.5 MB 31.2 MB/s eta 0:00:01\n",
      "   ------------------------------- -------- 13.2/16.5 MB 31.1 MB/s eta 0:00:01\n",
      "   ---------------------------------- ----- 14.5/16.5 MB 29.8 MB/s eta 0:00:01\n",
      "   -------------------------------------- - 15.8/16.5 MB 29.8 MB/s eta 0:00:01\n",
      "   ---------------------------------------  16.5/16.5 MB 29.7 MB/s eta 0:00:01\n",
      "   ---------------------------------------  16.5/16.5 MB 29.7 MB/s eta 0:00:01\n",
      "   ---------------------------------------- 16.5/16.5 MB 23.3 MB/s eta 0:00:00\n",
      "Installing collected packages: pymupdf\n",
      "Successfully installed pymupdf-1.25.3\n"
     ]
    }
   ],
   "source": [
    "!pip install pymupdf --upgrade\n"
   ]
  },
  {
   "cell_type": "code",
   "execution_count": 13,
   "metadata": {},
   "outputs": [],
   "source": [
    "import fitz # PyMuPDF\n",
    "from openai import OpenAI "
   ]
  },
  {
   "cell_type": "code",
   "execution_count": null,
   "metadata": {},
   "outputs": [
    {
     "name": "stdout",
     "output_type": "stream",
     "text": [
      "Prepared For\n",
      "Mr Thakur Raju Singh\n",
      "M 55\n",
      "\n",
      "fa lse\n",
      "Name\n",
      "Mr Thakur Raju Singh\n",
      "\n",
      "Patient ID\n",
      "11263422\n",
      "\n",
      "Gender\n",
      "M\n",
      "\n",
      "Age\n",
      "55\n",
      "\n",
      "Health Summary\n",
      "BLOOD COUNTS\n",
      "Test Name\n",
      "Result\n",
      "ESR - Erythrocyte Sedimentation Rate\n",
      "16\n",
      "Please Watchout\n",
      "LIPID PROFILE\n",
      "Everything looks good\n",
      "KIDNEY PROFILE\n",
      "Everything looks good\n",
      "THYROID PROFILE\n",
      "Test Name\n",
      "Result\n",
      "Thyroid Stimulating Hormone\n",
      "(Ultrasensitive)\n",
      "5.7\n",
      "Please Watchout\n",
      "DIABETES MONITORING\n",
      "Test Name\n",
      "Result\n",
      "Glucose Fasting\n",
      "106\n",
      "Please Watchout\n",
      "LIVER PROFILE\n",
      "Everything looks good\n",
      "ANEMIA\n"
     ]
    }
   ],
   "source": [
    "#Step 1: Extract Text from PDF Using PyMuPDF\n",
    "\n",
    "def extract_text_from_pdf(pdf_path):\n",
    "    \"\"\"Extracts text from a PDF medical report.\"\"\"\n",
    "    doc = fitz.open(pdf_path)\n",
    "    text = \"\\n\".join([page.get_text(\"text\") for page in doc])\n",
    "    return text\n",
    "\n",
    "pdf_text = extract_text_from_pdf(r\"C:\\Users\\reegauta\\Documents\\Doctolib_hackathon\\pdf_reports\\blood_report_papa.pdf\")\n",
    "\n",
    "print(pdf_text[:500])  # Preview extracted text\n"
   ]
  },
  {
   "cell_type": "code",
   "execution_count": null,
   "metadata": {},
   "outputs": [
    {
     "name": "stdout",
     "output_type": "stream",
     "text": [
      "\n",
      "🔹 Key Medical Findings:\n",
      " <think>\n",
      "Okay, let's see. I need to analyze this medical report for Mr. Thakur Raju Singh. The user wants key lab findings, abnormal values, and critical indicators. First, I'll go through each section systematically.\n",
      "\n",
      "Starting with the Health Summary. The ESR is 16, which is marked as \"Please Watchout.\" Wait, the normal ESR for men is usually up to 15 mm/h, so 16 is slightly elevated. But maybe not critical. Then the Thyroid Stimulating Hormone (Ultrasensitive) is 5.7. The reference range for TSH is typically around 0.4 to 4.0 mIU/L, so 5.7 is high, indicating possible hypothyroidism. That's important. Fasting Glucose is 106; normal is below 100, so this is elevated, possibly prediabetes. Those are the key points in the Health Summary.\n",
      "\n",
      "Next, the Complete Blood Count (CBC). RBC parameters: Hemoglobin is 13.3, which is within the normal range (13.0-17.0). RBC count, PCV, MCV, MCH are all normal. MCHC is 30.7, slightly below the reference range (31.5-34.5). RDW (CV) is 17.8%, which is high (11.6-14.0). RDW-SD is 46.7 fl, also high (35.1-43.9). These indicate some red blood cell size variation. Then WBC parameters: TLC is 5.23, which is normal. Differential counts all look within ranges. Platelet Count is 154, which is at the lower end but still within normal (150-410). MPV is 13.7 fL, which is high (9.3-12.1). PCT is 0.164%, below the reference range (0.17-0.32).\n",
      "\n",
      "Putting this together, the main abnormal values are TSH, Fasting Glucose, RDW (both CV and SD), MCHC, MPV, and PCT. The TSH and Glucose are in the \"Please Watchout\" sections, so they're critical. The RDW and MPV might indicate possible anemia or other blood disorders. The low PCT could relate to platelets. Also, even though Platelet Count is within range, it's on the lower side, but not below 150. The MCHC being slightly low might\n"
     ]
    }
   ],
   "source": [
    "client = OpenAI(\n",
    "    base_url = \"https://api.scaleway.ai/74bb05fa-56e4-49d4-949a-fabc5875d712/v1\",\n",
    "    api_key = \"35465751-64a0-4d1e-87aa-fd326c191da1\" # Replace SCW_SECRET_KEY with your IAM API key\n",
    ")\n",
    "\n",
    "def extract_medical_findings(pdf_text):\n",
    "    \"\"\"Uses DeepSeek R1 to extract key medical findings from a lab report.\"\"\"\n",
    "    prompt = f\"\"\"\n",
    "    You are a medical AI assistant. Extract key lab findings, abnormal values, and any critical indicators\n",
    "    from the following medical report.\n",
    "\n",
    "    **Medical Report:**\n",
    "    {pdf_text[:2000]}  # Limit input size for efficiency\n",
    "\n",
    "    Return a structured list of findings in bullet points.\n",
    "    \"\"\"\n",
    "\n",
    "    response = client.chat.completions.create(\n",
    "        model=\"deepseek-r1\",\n",
    "        messages=[{\"role\": \"system\", \"content\": \"You are a medical report analysis AI.\"},\n",
    "                  {\"role\": \"user\", \"content\": prompt}],\n",
    "        max_tokens=512,\n",
    "        temperature=0.6,\n",
    "        top_p=0.95\n",
    "    )\n",
    "\n",
    "    return response.choices[0].message.content\n",
    "\n",
    "key_findings = extract_medical_findings(pdf_text)\n",
    "print(\"\\n🔹 Key Medical Findings:\\n\", key_findings)\n"
   ]
  },
  {
   "cell_type": "code",
   "execution_count": 23,
   "metadata": {},
   "outputs": [
    {
     "name": "stdout",
     "output_type": "stream",
     "text": [
      "\n",
      "🔹 Disease Summary:\n",
      " <think>\n",
      "Okay, let's start analyzing the provided data. The patient is a 55-year-old male with symptoms of frequent urination and fatigue. The key lab findings include elevated TSH, fasting glucose, RDW-CV, RDW-SD, MPV, and low MCHC and PCT.\n",
      "\n",
      "First, the TSH level of 5.7 mIU/L is above the normal range, suggesting hypothyroidism. Hypothyroidism can cause fatigue, which aligns with the patient's symptom. \n",
      "\n",
      "Next, the fasting glucose of 106 mg/dL is in the prediabetes range. Prediabetes can lead to type 2 diabetes, which often presents with frequent urination and fatigue due to high blood sugar levels. \n",
      "\n",
      "Looking at the CBC, the elevated RDW values (17.8% and 46.7 fl) indicate anisocytosis, which might suggest iron deficiency anemia or other anemias. The low MCHC (30.7 g/dL) supports possible iron deficiency. However, hemoglobin is normal, so maybe early stages or mild anemia. \n",
      "\n",
      "The high MPV (13.7 fL) with normal platelet count but low PCT could suggest increased platelet turnover, sometimes seen in conditions like diabetes or inflammatory states. Diabetes can also contribute to frequent urination and fatigue. \n",
      "\n",
      "Other factors: ESR is slightly elevated but not critical. Low basophils might not be significant here. \n",
      "\n",
      "Putting it all together, the main possibilities are prediabetes/early diabetes, hypothyroidism, and iron deficiency anemia. These conditions can explain the symptoms of fatigue and frequent urination. I should also consider if these conditions are overlapping, as hypothyroidism can sometimes be associated with anemia. Need to check if the patient has other symptoms like weight gain, cold intolerance (hypothyroidism), or increased thirst (diabetes). Further tests like HbA1c for diabetes confirmation, thyroid antibodies, and iron studies would help confirm the diagnoses.\n",
      "</think>\n",
      "\n",
      "**Potential Diagnoses Based on Findings:**  \n",
      "1. **Prediabetes/Early Diabetes Mellitus**  \n",
      "   - Elevated fasting glucose (106 mg/dL) and symptoms of frequent urination suggest glucose dysregulation.  \n",
      "\n",
      "2. **Hypothyroidism**  \n",
      "   - Elevated TSH (5.7 mIU/L) indicates possible thyroid dysfunction, contributing to fatigue.  \n",
      "\n",
      "3. **Iron Deficiency Anemia (Early Stage)**  \n",
      "   - Low MCHC (30.7 g/dL) and elevated RDW (17.8% and 46.7 fl) suggest anisocytosis\n"
     ]
    }
   ],
   "source": [
    " #Use DeepSeek R1 to Summarize Possible Diseases\n",
    " def summarize_disease_with_deepseek(key_findings, symptoms):\n",
    "    \"\"\"Uses DeepSeek AI to summarize possible diseases based on key medical findings and symptoms.\"\"\"\n",
    "    prompt = f\"\"\"\n",
    "    You are a medical AI doctor. Analyze the structured medical findings and symptoms below and summarize the potential diseases.\n",
    "\n",
    "    **Key Medical Findings:**\n",
    "    {key_findings}\n",
    "\n",
    "    **Patient's Symptoms:**\n",
    "    {symptoms}\n",
    "\n",
    "    Provide a short, medically accurate summary of possible conditions.\n",
    "    \"\"\"\n",
    "\n",
    "    response = client.chat.completions.create(\n",
    "        model=\"deepseek-r1\",\n",
    "        messages=[{\"role\": \"system\", \"content\": \"You are a medical diagnosis AI.\"},\n",
    "                  {\"role\": \"user\", \"content\": prompt}],\n",
    "        max_tokens=512,\n",
    "        temperature=0.6,\n",
    "        top_p=0.95\n",
    "    )\n",
    "\n",
    "    return response.choices[0].message.content\n",
    "\n",
    "# user_symptoms = input(\"Describe your symptoms: \")\n",
    "user_symptoms = \"frequent urination and fatigue\"\n",
    "deepseek_summary = summarize_disease_with_deepseek(key_findings, user_symptoms)\n",
    "\n",
    "print(\"\\n🔹 Disease Summary:\\n\", deepseek_summary)\n"
   ]
  },
  {
   "cell_type": "code",
   "execution_count": 24,
   "metadata": {},
   "outputs": [
    {
     "name": "stdout",
     "output_type": "stream",
     "text": [
      "\n",
      "📌 Recommended Specialist: <think>\n",
      "Okay, let's figure out the best specialist for Mr. Thakur Raju Singh. He's 55 with symptoms of frequent urination and fatigue. Looking at the key findings:\n",
      "\n",
      "1. Fasting Glucose is 106 mg/dL, which is in the prediabetic range. Frequent urination is a classic symptom of high blood sugar, as the body tries to expel excess glucose through urine. Fatigue can also result from the body's inability to use glucose effectively for energy.\n",
      "\n",
      "2. TSH level is 5.7 mIU/L, which is elevated. The normal range is usually up to 4.0, so this suggests hypothyroidism. Hypothyroidism can cause fatigue, weight gain, and other metabolic issues. However, his symptoms like frequent urination are more aligned with glucose metabolism issues.\n",
      "\n",
      "3. Elevated RDW and MPV in the CBC might indicate some blood-related issues, like anemia or platelet disorders, but the primary symptoms here seem to point more towards metabolic issues.\n",
      "\n",
      "The patient's main symptoms are frequent urination and fatigue, which are strongly associated with diabetes or prediabetes. While the TSH is slightly high, the fasting glucose is a more immediate concern given the symptoms. A Diabetologist specializes in managing blood sugar disorders, which would be the most fitting here. The General Physician could manage initial assessments, but a specialist would be better for confirmed or suspected diabetes. Cardiologist and Neurologist don't directly address the presenting symptoms.\n",
      "</think>\n",
      "\n",
      "Diabetologist\n"
     ]
    }
   ],
   "source": [
    "#Step 4: Use DeepSeek R1 to Classify the Patient to a Specialist\n",
    "def classify_specialist(key_findings, symptoms):\n",
    "    \"\"\"Uses DeepSeek R1 to determine the best specialist based on extracted medical findings and symptoms.\"\"\"\n",
    "    prompt = f\"\"\"\n",
    "    Based on the structured medical findings and symptoms, suggest the most appropriate specialist.\n",
    "\n",
    "    **Key Medical Findings:**\n",
    "    {key_findings}\n",
    "\n",
    "    **Symptoms:**\n",
    "    {symptoms}\n",
    "\n",
    "    Possible specialists: General Physician, Diabetologist, Cardiologist, Neurologist.\n",
    "\n",
    "    Return only the best specialist.\n",
    "    \"\"\"\n",
    "\n",
    "    response = client.chat.completions.create(\n",
    "        model=\"deepseek-r1\",\n",
    "        messages=[{\"role\": \"system\", \"content\": \"You are a medical referral AI.\"},\n",
    "                  {\"role\": \"user\", \"content\": prompt}],\n",
    "        max_tokens=500\n",
    "    )\n",
    "\n",
    "    return response.choices[0].message.content.strip()\n",
    "\n",
    "recommended_specialist = classify_specialist(key_findings, user_symptoms)\n",
    "print(f\"\\n📌 Recommended Specialist: {recommended_specialist}\")\n"
   ]
  },
  {
   "cell_type": "code",
   "execution_count": 25,
   "metadata": {},
   "outputs": [
    {
     "name": "stdout",
     "output_type": "stream",
     "text": [
      "\n",
      "### 🏥 AI Health Report 🏥\n",
      "\n",
      "🔹 **Symptoms:** frequent urination and fatigue\n",
      "🔹 **Key Findings from Report (DeepSeek R1):** <think>\n",
      "Alright, let me go through this medical report for Mr. Thakur Raju Singh. He's a 55-year-old male. The task is to extract key lab findings, abnormal values, and critical indicators.\n",
      "\n",
      "Starting with the Health Summary section. The ESR is 16, which is marked as \"Please Watchout.\" But the normal range for ESR can vary, typically up to 15-20 mm/hr for men, so 16 might be borderline. Maybe slightly elevated but not critical. Then the Thyroid Stimulating Hormone (TSH) is 5.7, which is flagged. Normal TSH is usually around 0.4 to 4.0 mIU/L, so 5.7 is high, indicating possible hypothyroidism. Fasting Glucose is 106, which is marked as high. The normal range for fasting glucose is under 100 mg/dL; 100-125 is prediabetes. So 106 is in the prediabetic range.\n",
      "\n",
      "Moving to the Complete Blood Count (CBC). Let's check each parameter. Hemoglobin is 13.3 g/dL, within the normal range. RBC count is 4.6, which is within 4.5-5.5. PCV, MCV, MCH all normal. MCHC is 30.7, slightly below the reference range of 31.5-34.5. RDW-CV is 17.8% (high, since reference is 11.6-14.0). RDW-SD is 46.7 fl (high, ref 35.1-43.9). So RDW both parameters are elevated, indicating possible anisocytosis. \n",
      "\n",
      "WBC Parameters: TLC is 5.23, which is normal. Differential counts all within normal ranges. Absolute counts for neutrophils, lymphocytes, monocytes, eosinophils all within normal. Basophils are 0 but the absolute count is also 0, which is below the reference of 0.02-0.5. Not sure if that's a concern, but maybe not critical.\n",
      "\n",
      "Platelet Parameters: Platelet count is 154, within 150-410, so normal. But MPV is 13.7 fL (high, ref 9.3-12.1). PCT is 0.164% (low, ref 0.17-0.32). So MPV elevated and PCT slightly low. High MPV can indicate platelet production\n",
      "🔹 **Condition Summary (DeepSeek R1):** <think>\n",
      "Okay, let's start analyzing the provided data. The patient is a 55-year-old male with symptoms of frequent urination and fatigue. The key lab findings include elevated TSH, fasting glucose, RDW-CV, RDW-SD, MPV, and low MCHC and PCT.\n",
      "\n",
      "First, the TSH level of 5.7 mIU/L is above the normal range, suggesting hypothyroidism. Hypothyroidism can cause fatigue, which aligns with the patient's symptom. \n",
      "\n",
      "Next, the fasting glucose of 106 mg/dL is in the prediabetes range. Prediabetes can lead to type 2 diabetes, which often presents with frequent urination and fatigue due to high blood sugar levels. \n",
      "\n",
      "Looking at the CBC, the elevated RDW values (17.8% and 46.7 fl) indicate anisocytosis, which might suggest iron deficiency anemia or other anemias. The low MCHC (30.7 g/dL) supports possible iron deficiency. However, hemoglobin is normal, so maybe early stages or mild anemia. \n",
      "\n",
      "The high MPV (13.7 fL) with normal platelet count but low PCT could suggest increased platelet turnover, sometimes seen in conditions like diabetes or inflammatory states. Diabetes can also contribute to frequent urination and fatigue. \n",
      "\n",
      "Other factors: ESR is slightly elevated but not critical. Low basophils might not be significant here. \n",
      "\n",
      "Putting it all together, the main possibilities are prediabetes/early diabetes, hypothyroidism, and iron deficiency anemia. These conditions can explain the symptoms of fatigue and frequent urination. I should also consider if these conditions are overlapping, as hypothyroidism can sometimes be associated with anemia. Need to check if the patient has other symptoms like weight gain, cold intolerance (hypothyroidism), or increased thirst (diabetes). Further tests like HbA1c for diabetes confirmation, thyroid antibodies, and iron studies would help confirm the diagnoses.\n",
      "</think>\n",
      "\n",
      "**Potential Diagnoses Based on Findings:**  \n",
      "1. **Prediabetes/Early Diabetes Mellitus**  \n",
      "   - Elevated fasting glucose (106 mg/dL) and symptoms of frequent urination suggest glucose dysregulation.  \n",
      "\n",
      "2. **Hypothyroidism**  \n",
      "   - Elevated TSH (5.7 mIU/L) indicates possible thyroid dysfunction, contributing to fatigue.  \n",
      "\n",
      "3. **Iron Deficiency Anemia (Early Stage)**  \n",
      "   - Low MCHC (30.7 g/dL) and elevated RDW (17.8% and 46.7 fl) suggest anisocytosis\n",
      "🔹 **Suggested Specialist:** <think>\n",
      "Okay, let's figure out the best specialist for Mr. Thakur Raju Singh. He's 55 with symptoms of frequent urination and fatigue. Looking at the key findings:\n",
      "\n",
      "1. Fasting Glucose is 106 mg/dL, which is in the prediabetic range. Frequent urination is a classic symptom of high blood sugar, as the body tries to expel excess glucose through urine. Fatigue can also result from the body's inability to use glucose effectively for energy.\n",
      "\n",
      "2. TSH level is 5.7 mIU/L, which is elevated. The normal range is usually up to 4.0, so this suggests hypothyroidism. Hypothyroidism can cause fatigue, weight gain, and other metabolic issues. However, his symptoms like frequent urination are more aligned with glucose metabolism issues.\n",
      "\n",
      "3. Elevated RDW and MPV in the CBC might indicate some blood-related issues, like anemia or platelet disorders, but the primary symptoms here seem to point more towards metabolic issues.\n",
      "\n",
      "The patient's main symptoms are frequent urination and fatigue, which are strongly associated with diabetes or prediabetes. While the TSH is slightly high, the fasting glucose is a more immediate concern given the symptoms. A Diabetologist specializes in managing blood sugar disorders, which would be the most fitting here. The General Physician could manage initial assessments, but a specialist would be better for confirmed or suspected diabetes. Cardiologist and Neurologist don't directly address the presenting symptoms.\n",
      "</think>\n",
      "\n",
      "Diabetologist\n",
      "\n"
     ]
    }
   ],
   "source": [
    "#Step 5: Generate a Final AI Health Report\n",
    "report = f\"\"\"\n",
    "### 🏥 AI Health Report 🏥\n",
    "\n",
    "🔹 **Symptoms:** {user_symptoms}\n",
    "🔹 **Key Findings from Report (DeepSeek R1):** {key_findings}\n",
    "🔹 **Condition Summary (DeepSeek R1):** {deepseek_summary}\n",
    "🔹 **Suggested Specialist:** {recommended_specialist}\n",
    "\"\"\"\n",
    "\n",
    "print(report)\n"
   ]
  },
  {
   "cell_type": "markdown",
   "metadata": {},
   "source": []
  }
 ],
 "metadata": {
  "kernelspec": {
   "display_name": "hackathon",
   "language": "python",
   "name": "python3"
  },
  "language_info": {
   "codemirror_mode": {
    "name": "ipython",
    "version": 3
   },
   "file_extension": ".py",
   "mimetype": "text/x-python",
   "name": "python",
   "nbconvert_exporter": "python",
   "pygments_lexer": "ipython3",
   "version": "3.12.3"
  }
 },
 "nbformat": 4,
 "nbformat_minor": 2
}
